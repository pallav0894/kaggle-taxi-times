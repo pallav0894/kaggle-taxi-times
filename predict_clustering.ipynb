{
 "cells": [
  {
   "cell_type": "code",
   "execution_count": 74,
   "metadata": {
    "collapsed": true
   },
   "outputs": [],
   "source": [
    "import pandas as pd \n",
    "import numpy as np\n",
    "from sklearn import datasets, linear_model, metrics, preprocessing\n",
    "from sklearn.metrics import mean_squared_error\n",
    "from sklearn.ensemble import RandomForestRegressor\n",
    "from sklearn.cluster import KMeans\n",
    "from scipy import stats\n",
    "import geopy.distance\n",
    "import datetime\n",
    "import csv\n",
    "from predict import *\n",
    "from numpy import *"
   ]
  },
  {
   "cell_type": "code",
   "execution_count": 49,
   "metadata": {
    "collapsed": true
   },
   "outputs": [
    {
     "name": "stdout",
     "output_type": "stream",
     "text": [
      "100000\n               TRIP_ID CALL_TYPE  ORIGIN_CALL  ORIGIN_STAND   TAXI_ID  \\\n0  1372636858620000589         C          NaN           NaN  20000589   \n1  1372637303620000596         B          NaN           7.0  20000596   \n2  1372636951620000320         C          NaN           NaN  20000320   \n3  1372636854620000520         C          NaN           NaN  20000520   \n4  1372637091620000337         C          NaN           NaN  20000337   \n\n    TIMESTAMP DAY_TYPE  MISSING_DATA  \\\n0  1372636858        A         False   \n1  1372637303        A         False   \n2  1372636951        A         False   \n3  1372636854        A         False   \n4  1372637091        A         False   \n\n                                            POLYLINE  \n0  [[-8.618643,41.141412],[-8.618499,41.141376],[...  \n1  [[-8.639847,41.159826],[-8.640351,41.159871],[...  \n2  [[-8.612964,41.140359],[-8.613378,41.14035],[-...  \n3  [[-8.574678,41.151951],[-8.574705,41.151942],[...  \n4  [[-8.645994,41.18049],[-8.645949,41.180517],[-...  \n"
     ]
    }
   ],
   "source": [
    "train_data = pd.read_csv(open('data/train.csv'), nrows=100000)\n",
    "print(len(train_data))\n",
    "print(train_data.head())\n"
   ]
  },
  {
   "cell_type": "code",
   "execution_count": 50,
   "metadata": {},
   "outputs": [
    {
     "name": "stdout",
     "output_type": "stream",
     "text": [
      "  TRIP_ID CALL_TYPE  ORIGIN_CALL  ORIGIN_STAND   TAXI_ID   TIMESTAMP DAY_TYPE  \\\n0      T1         B          NaN          15.0  20000542  1408039037        A   \n1      T2         B          NaN          57.0  20000108  1408038611        A   \n2      T3         B          NaN          15.0  20000370  1408038568        A   \n3      T4         B          NaN          53.0  20000492  1408039090        A   \n4      T5         B          NaN          18.0  20000621  1408039177        A   \n\n   MISSING_DATA  \n0         False  \n1         False  \n2         False  \n3         False  \n4         False  \n"
     ]
    }
   ],
   "source": [
    "#Data Cleaning\n",
    "test_data = pd.read_csv(open('data/test_public.csv'))\n",
    "print(test_data.head())\n",
    "\n"
   ]
  },
  {
   "cell_type": "code",
   "execution_count": 51,
   "metadata": {},
   "outputs": [
    {
     "name": "stderr",
     "output_type": "stream",
     "text": [
      "C:\\Users\\Pallav Gupta\\AppData\\Local\\Programs\\Python\\Python36-32\\lib\\site-packages\\ipykernel_launcher.py:14: FutureWarning: set_value is deprecated and will be removed in a future release. Please use .at[] or .iat[] accessors instead\n  \n"
     ]
    },
    {
     "name": "stderr",
     "output_type": "stream",
     "text": [
      "C:\\Users\\Pallav Gupta\\AppData\\Local\\Programs\\Python\\Python36-32\\lib\\site-packages\\ipykernel_launcher.py:23: FutureWarning: set_value is deprecated and will be removed in a future release. Please use .at[] or .iat[] accessors instead\nC:\\Users\\Pallav Gupta\\AppData\\Local\\Programs\\Python\\Python36-32\\lib\\site-packages\\ipykernel_launcher.py:21: FutureWarning: set_value is deprecated and will be removed in a future release. Please use .at[] or .iat[] accessors instead\nC:\\Users\\Pallav Gupta\\AppData\\Local\\Programs\\Python\\Python36-32\\lib\\site-packages\\ipykernel_launcher.py:19: FutureWarning: set_value is deprecated and will be removed in a future release. Please use .at[] or .iat[] accessors instead\n"
     ]
    },
    {
     "name": "stdout",
     "output_type": "stream",
     "text": [
      "               TRIP_ID CALL_TYPE  ORIGIN_CALL  ORIGIN_STAND   TAXI_ID  \\\n0  1372636858620000589         C          NaN           NaN  20000589   \n1  1372637303620000596         B          NaN           7.0  20000596   \n2  1372636951620000320         C          NaN           NaN  20000320   \n3  1372636854620000520         C          NaN           NaN  20000520   \n4  1372637091620000337         C          NaN           NaN  20000337   \n\n    TIMESTAMP DAY_TYPE  MISSING_DATA  \\\n0  1372636858        A         False   \n1  1372637303        A         False   \n2  1372636951        A         False   \n3  1372636854        A         False   \n4  1372637091        A         False   \n\n                                            POLYLINE  TRAVEL_TIME  \n0  [[-8.618643,41.141412],[-8.618499,41.141376],[...        330.0  \n1  [[-8.639847,41.159826],[-8.640351,41.159871],[...        270.0  \n2  [[-8.612964,41.140359],[-8.613378,41.14035],[-...        960.0  \n3  [[-8.574678,41.151951],[-8.574705,41.151942],[...        630.0  \n4  [[-8.645994,41.18049],[-8.645949,41.180517],[-...        420.0  \n  CALL_TYPE   TIMESTAMP\n0         3  1372636858\n1         2  1372637303\n2         3  1372636951\n3         3  1372636854\n4         3  1372637091\n"
     ]
    }
   ],
   "source": [
    "train_data_clean = train_data.copy()\n",
    "\n",
    "train_data_clean.drop(\"TRIP_ID\", axis=1, inplace=True)\n",
    "train_data_clean.drop(\"ORIGIN_CALL\", axis=1, inplace=True)\n",
    "train_data_clean.drop(\"ORIGIN_STAND\", axis=1, inplace=True)\n",
    "train_data_clean.drop(\"TAXI_ID\", axis=1, inplace=True)\n",
    "train_data_clean.drop(\"DAY_TYPE\", axis=1, inplace=True)\n",
    "train_data_clean.drop(\"MISSING_DATA\", axis=1, inplace=True)\n",
    "train_data_clean.drop(\"POLYLINE\", axis=1, inplace=True) \n",
    "\n",
    "\n",
    "for i, row in train_data.iterrows():\n",
    "    time = time_from_polyline(list_from_polyline_string(row[\"POLYLINE\"]))\n",
    "    train_data.set_value(i, \"TRAVEL_TIME\", time)\n",
    "    \n",
    "    \n",
    "for i, row in train_data_clean.iterrows():\n",
    "    if row[\"CALL_TYPE\"] == \"A\":\n",
    "        train_data_clean.set_value(i, \"CALL_TYPE\", 1)\n",
    "    elif row[\"CALL_TYPE\"] == \"B\":\n",
    "        train_data_clean.set_value(i, \"CALL_TYPE\", 2)\n",
    "    elif row[\"CALL_TYPE\"] == \"C\":\n",
    "        train_data_clean.set_value(i, \"CALL_TYPE\", 3)\n",
    "\n",
    "print(train_data.head())\n",
    "print(train_data_clean.head())"
   ]
  },
  {
   "cell_type": "code",
   "execution_count": null,
   "metadata": {},
   "outputs": [
    {
     "name": "stdout",
     "output_type": "stream",
     "text": [
      "  CALL_TYPE   TIMESTAMP\n0         2  1408039037\n1         2  1408038611\n2         2  1408038568\n3         2  1408039090\n4         2  1408039177\n"
     ]
    },
    {
     "name": "stderr",
     "output_type": "stream",
     "text": [
      "C:\\Users\\Pallav Gupta\\AppData\\Local\\Programs\\Python\\Python36-32\\lib\\site-packages\\ipykernel_launcher.py:13: FutureWarning: set_value is deprecated and will be removed in a future release. Please use .at[] or .iat[] accessors instead\n  del sys.path[0]\nC:\\Users\\Pallav Gupta\\AppData\\Local\\Programs\\Python\\Python36-32\\lib\\site-packages\\ipykernel_launcher.py:11: FutureWarning: set_value is deprecated and will be removed in a future release. Please use .at[] or .iat[] accessors instead\n  # This is added back by InteractiveShellApp.init_path()\nC:\\Users\\Pallav Gupta\\AppData\\Local\\Programs\\Python\\Python36-32\\lib\\site-packages\\ipykernel_launcher.py:15: FutureWarning: set_value is deprecated and will be removed in a future release. Please use .at[] or .iat[] accessors instead\n  from ipykernel import kernelapp as app\n"
     ]
    }
   ],
   "source": [
    ""
   ]
  },
  {
   "cell_type": "code",
   "execution_count": 52,
   "metadata": {},
   "outputs": [
    {
     "name": "stdout",
     "output_type": "stream",
     "text": [
      "  CALL_TYPE   TIMESTAMP\n0         2  1408039037\n1         2  1408038611\n2         2  1408038568\n3         2  1408039090\n4         2  1408039177\n"
     ]
    },
    {
     "name": "stderr",
     "output_type": "stream",
     "text": [
      "C:\\Users\\Pallav Gupta\\AppData\\Local\\Programs\\Python\\Python36-32\\lib\\site-packages\\ipykernel_launcher.py:13: FutureWarning: set_value is deprecated and will be removed in a future release. Please use .at[] or .iat[] accessors instead\n  del sys.path[0]\nC:\\Users\\Pallav Gupta\\AppData\\Local\\Programs\\Python\\Python36-32\\lib\\site-packages\\ipykernel_launcher.py:11: FutureWarning: set_value is deprecated and will be removed in a future release. Please use .at[] or .iat[] accessors instead\n  # This is added back by InteractiveShellApp.init_path()\nC:\\Users\\Pallav Gupta\\AppData\\Local\\Programs\\Python\\Python36-32\\lib\\site-packages\\ipykernel_launcher.py:15: FutureWarning: set_value is deprecated and will be removed in a future release. Please use .at[] or .iat[] accessors instead\n  from ipykernel import kernelapp as app\n"
     ]
    }
   ],
   "source": [
    "test_data_clean = test_data.copy()\n",
    "\n",
    "test_data_clean.drop(\"TRIP_ID\", axis=1, inplace=True)\n",
    "test_data_clean.drop(\"ORIGIN_CALL\", axis=1, inplace=True)\n",
    "test_data_clean.drop(\"ORIGIN_STAND\", axis=1, inplace=True)\n",
    "test_data_clean.drop(\"TAXI_ID\", axis=1, inplace=True)\n",
    "test_data_clean.drop(\"DAY_TYPE\", axis=1, inplace=True)\n",
    "test_data_clean.drop(\"MISSING_DATA\", axis=1, inplace=True)\n",
    "for i, row in test_data_clean.iterrows():\n",
    "    if row['CALL_TYPE'] == \"A\":\n",
    "        test_data_clean.set_value(i, \"CALL_TYPE\", 1)\n",
    "    elif row['CALL_TYPE'] == \"B\":\n",
    "        test_data_clean.set_value(i, \"CALL_TYPE\", 2)\n",
    "    elif row['CALL_TYPE'] == \"C\":\n",
    "        test_data_clean.set_value(i, \"CALL_TYPE\", 3)\n",
    "\n",
    "print(test_data_clean.head())\n"
   ]
  },
  {
   "cell_type": "code",
   "execution_count": 54,
   "metadata": {},
   "outputs": [
    {
     "name": "stderr",
     "output_type": "stream",
     "text": [
      "C:\\Users\\Pallav Gupta\\AppData\\Local\\Programs\\Python\\Python36-32\\lib\\site-packages\\ipykernel_launcher.py:2: DataConversionWarning: Data with input dtype int64, object were all converted to float64 by the scale function.\n  \nC:\\Users\\Pallav Gupta\\AppData\\Local\\Programs\\Python\\Python36-32\\lib\\site-packages\\sklearn\\preprocessing\\data.py:176: UserWarning: Numerical issues were encountered when centering the data and might not be solved. Dataset may contain too large values. You may need to prescale your features.\n  warnings.warn(\"Numerical issues were encountered \"\n"
     ]
    },
    {
     "data": {
      "text/plain": [
       "2.7284841053187848e-17"
      ]
     },
     "execution_count": 54,
     "metadata": {},
     "output_type": "execute_result"
    }
   ],
   "source": [
    "\n",
    "train_scaled = preprocessing.scale(train_data_clean)"
   ]
  },
  {
   "cell_type": "code",
   "execution_count": 57,
   "metadata": {},
   "outputs": [
    {
     "name": "stderr",
     "output_type": "stream",
     "text": [
      "C:\\Users\\Pallav Gupta\\AppData\\Local\\Programs\\Python\\Python36-32\\lib\\site-packages\\ipykernel_launcher.py:1: DataConversionWarning: Data with input dtype int64, object were all converted to float64 by the scale function.\n  \"\"\"Entry point for launching an IPython kernel.\nC:\\Users\\Pallav Gupta\\AppData\\Local\\Programs\\Python\\Python36-32\\lib\\site-packages\\sklearn\\preprocessing\\data.py:176: UserWarning: Numerical issues were encountered when centering the data and might not be solved. Dataset may contain too large values. You may need to prescale your features.\n  warnings.warn(\"Numerical issues were encountered \"\n"
     ]
    },
    {
     "data": {
      "text/plain": [
       "array([[-0.21595628, -1.40965546],\n       [-0.21595628, -1.40979113],\n       [-0.21595628, -1.40980483],\n       [-0.21595628, -1.40963858],\n       [-0.21595628, -1.40961088],\n       [-1.51984324, -1.4102577 ],\n       [-0.21595628, -1.40971629],\n       [-1.51984324, -1.40968381],\n       [-0.21595628, -1.40980642],\n       [-0.21595628, -1.40997903]])"
      ]
     },
     "execution_count": 57,
     "metadata": {},
     "output_type": "execute_result"
    }
   ],
   "source": [
    "test_scaled = preprocessing.scale(test_data_clean)\n",
    "test_scaled[0:10]"
   ]
  },
  {
   "cell_type": "code",
   "execution_count": 60,
   "metadata": {
    "collapsed": true
   },
   "outputs": [
    {
     "name": "stdout",
     "output_type": "stream",
     "text": [
      "  CALL_TYPE   TIMESTAMP  CLUSTERS\n0         3  1372636858         3\n1         2  1372637303        12\n2         3  1372636951         3\n3         3  1372636854         3\n4         3  1372637091         3\n5         3  1372636965         3\n6         3  1372637210         3\n7         3  1372637299         3\n8         3  1372637274         3\n9         3  1372637905         3\n"
     ]
    }
   ],
   "source": [
    "kmeans = KMeans(n_clusters=15, random_state=0).fit(train_scaled)\n",
    "labels = kmeans.labels_\n",
    "train_data_clean['CLUSTERS'] = labels\n",
    "print(train_data_clean[0:10])"
   ]
  },
  {
   "cell_type": "code",
   "execution_count": 95,
   "metadata": {},
   "outputs": [
    {
     "name": "stdout",
     "output_type": "stream",
     "text": [
      "    CALL_TYPE   TIMESTAMP  CLUSTERS\n0           2  1408039037        12\n1           2  1408038611        12\n2           2  1408038568        12\n3           2  1408039090        12\n4           2  1408039177        12\n5           1  1408037146         2\n6           2  1408038846        12\n7           1  1408038948         2\n8           2  1408038563        12\n9           2  1408038021        12\n10          2  1408038267        12\n11          3  1408038946         3\n12          3  1408039130         3\n13          3  1408036255         3\n14          3  1408038388         3\n15          3  1408037740         3\n16          3  1408038804         3\n17          3  1408038215         3\n18          2  1408038749        12\n19          3  1408036754         3\n20          2  1408039125        12\n21          1  1408039009         2\n22          1  1408038924         2\n23          2  1408039145        12\n24          2  1408039057        12\n25          2  1408039029        12\n26          2  1408038859        12\n27          2  1408039165        12\n28          2  1408038439        12\n29          2  1408038605        12\n..        ...         ...       ...\n290         2  1419171969         7\n291         3  1419166062         0\n292         1  1419171407         9\n293         3  1419171112         0\n294         1  1419171742         9\n295         2  1419172159         7\n296         1  1419172057         9\n297         2  1419171753         7\n298         3  1419171985         0\n299         3  1419171073         0\n300         3  1419162114         0\n301         3  1419167924         0\n302         1  1419171991         9\n303         3  1419161986         0\n304         1  1419171813         9\n305         1  1419171819         9\n306         1  1419171903         9\n307         1  1419171879         9\n308         3  1419171893         0\n309         1  1419171826         9\n310         2  1419171921         7\n311         1  1419171095         9\n312         1  1419164220         9\n313         3  1419168199         0\n314         3  1419171201         0\n315         1  1419171485         9\n316         2  1419170802         7\n317         3  1419172121         0\n318         1  1419171980         9\n319         1  1419171420         9\n\n[320 rows x 3 columns]\n"
     ]
    }
   ],
   "source": [
    "labels = kmeans.predict(test_scaled)\n",
    "\n",
    "test_data_clean['CLUSTERS'] = labels\n",
    "np.savetxt(\"clusters.csv\", labels, delimiter=\",\")\n",
    "print(test_data_clean)"
   ]
  },
  {
   "cell_type": "code",
   "execution_count": 66,
   "metadata": {},
   "outputs": [
    {
     "name": "stdout",
     "output_type": "stream",
     "text": [
      "0    330.0\n1    270.0\n2    960.0\n3    630.0\n4    420.0\n5    375.0\n6    525.0\n7    495.0\n8    555.0\n9    270.0\nName: TRAVEL_TIME, dtype: float64\n"
     ]
    }
   ],
   "source": [
    "yi_train = train_data[\"TRAVEL_TIME\"]\n",
    "print(yi_train[0:10])"
   ]
  },
  {
   "cell_type": "code",
   "execution_count": 97,
   "metadata": {
    "collapsed": true
   },
   "outputs": [
    {
     "name": "stdout",
     "output_type": "stream",
     "text": [
      "CLuster no:  0\n"
     ]
    },
    {
     "name": "stderr",
     "output_type": "stream",
     "text": [
      "C:\\Users\\Pallav Gupta\\AppData\\Local\\Programs\\Python\\Python36-32\\lib\\site-packages\\pandas\\core\\frame.py:3697: SettingWithCopyWarning: \nA value is trying to be set on a copy of a slice from a DataFrame\n\nSee the caveats in the documentation: http://pandas.pydata.org/pandas-docs/stable/indexing.html#indexing-view-versus-copy\n  errors=errors)\nC:\\Users\\Pallav Gupta\\AppData\\Local\\Programs\\Python\\Python36-32\\lib\\site-packages\\sklearn\\ensemble\\forest.py:248: FutureWarning: The default value of n_estimators will change from 10 in version 0.20 to 100 in 0.22.\n  \"10 in version 0.20 to 100 in 0.22.\", FutureWarning)\nC:\\Users\\Pallav Gupta\\AppData\\Local\\Programs\\Python\\Python36-32\\lib\\site-packages\\ipykernel_launcher.py:22: SettingWithCopyWarning: \nA value is trying to be set on a copy of a slice from a DataFrame.\nTry using .loc[row_indexer,col_indexer] = value instead\n\nSee the caveats in the documentation: http://pandas.pydata.org/pandas-docs/stable/indexing.html#indexing-view-versus-copy\n"
     ]
    },
    {
     "name": "stdout",
     "output_type": "stream",
     "text": [
      "    CALL_TYPE   TIMESTAMP  TRAVEL_TIME\n291         3  1419166062        294.0\n293         3  1419171112        294.0\n298         3  1419171985        294.0\n299         3  1419171073        294.0\n300         3  1419162114        294.0\n301         3  1419167924        294.0\n303         3  1419161986        294.0\n308         3  1419171893        294.0\n313         3  1419168199        294.0\n314         3  1419171201        294.0\n317         3  1419172121        294.0\nCLuster no:  1\nCLuster no:  2\n"
     ]
    },
    {
     "name": "stderr",
     "output_type": "stream",
     "text": [
      "C:\\Users\\Pallav Gupta\\AppData\\Local\\Programs\\Python\\Python36-32\\lib\\site-packages\\pandas\\core\\frame.py:3697: SettingWithCopyWarning: \nA value is trying to be set on a copy of a slice from a DataFrame\n\nSee the caveats in the documentation: http://pandas.pydata.org/pandas-docs/stable/indexing.html#indexing-view-versus-copy\n  errors=errors)\nC:\\Users\\Pallav Gupta\\AppData\\Local\\Programs\\Python\\Python36-32\\lib\\site-packages\\sklearn\\ensemble\\forest.py:248: FutureWarning: The default value of n_estimators will change from 10 in version 0.20 to 100 in 0.22.\n  \"10 in version 0.20 to 100 in 0.22.\", FutureWarning)\nC:\\Users\\Pallav Gupta\\AppData\\Local\\Programs\\Python\\Python36-32\\lib\\site-packages\\ipykernel_launcher.py:22: SettingWithCopyWarning: \nA value is trying to be set on a copy of a slice from a DataFrame.\nTry using .loc[row_indexer,col_indexer] = value instead\n\nSee the caveats in the documentation: http://pandas.pydata.org/pandas-docs/stable/indexing.html#indexing-view-versus-copy\nC:\\Users\\Pallav Gupta\\AppData\\Local\\Programs\\Python\\Python36-32\\lib\\site-packages\\pandas\\core\\frame.py:3697: SettingWithCopyWarning: \nA value is trying to be set on a copy of a slice from a DataFrame\n\nSee the caveats in the documentation: http://pandas.pydata.org/pandas-docs/stable/indexing.html#indexing-view-versus-copy\n  errors=errors)\n"
     ]
    },
    {
     "name": "stdout",
     "output_type": "stream",
     "text": [
      "   CALL_TYPE   TIMESTAMP  TRAVEL_TIME\n5          1  1408037146       1210.0\n7          1  1408038948       1210.0\n21         1  1408039009       1210.0\n22         1  1408038924       1210.0\n36         1  1408038095       1210.0\n59         1  1408038636       1210.0\n63         1  1408038842       1210.0\n67         1  1408037585       1210.0\nCLuster no:  3\n"
     ]
    },
    {
     "name": "stderr",
     "output_type": "stream",
     "text": [
      "C:\\Users\\Pallav Gupta\\AppData\\Local\\Programs\\Python\\Python36-32\\lib\\site-packages\\sklearn\\ensemble\\forest.py:248: FutureWarning: The default value of n_estimators will change from 10 in version 0.20 to 100 in 0.22.\n  \"10 in version 0.20 to 100 in 0.22.\", FutureWarning)\nC:\\Users\\Pallav Gupta\\AppData\\Local\\Programs\\Python\\Python36-32\\lib\\site-packages\\ipykernel_launcher.py:22: SettingWithCopyWarning: \nA value is trying to be set on a copy of a slice from a DataFrame.\nTry using .loc[row_indexer,col_indexer] = value instead\n\nSee the caveats in the documentation: http://pandas.pydata.org/pandas-docs/stable/indexing.html#indexing-view-versus-copy\nC:\\Users\\Pallav Gupta\\AppData\\Local\\Programs\\Python\\Python36-32\\lib\\site-packages\\pandas\\core\\frame.py:3697: SettingWithCopyWarning: \nA value is trying to be set on a copy of a slice from a DataFrame\n\nSee the caveats in the documentation: http://pandas.pydata.org/pandas-docs/stable/indexing.html#indexing-view-versus-copy\n  errors=errors)\n"
     ]
    },
    {
     "name": "stdout",
     "output_type": "stream",
     "text": [
      "   CALL_TYPE   TIMESTAMP  TRAVEL_TIME\n11         3  1408038946       831.75\n12         3  1408039130       831.75\n13         3  1408036255       831.75\n14         3  1408038388       831.75\n15         3  1408037740       831.75\n16         3  1408038804       831.75\n17         3  1408038215       831.75\n19         3  1408036754       831.75\n32         3  1408038614       831.75\n33         3  1408039193       831.75\n34         3  1408038465       831.75\n35         3  1408036826       831.75\n41         3  1408039100       831.75\n42         3  1408038600       831.75\n46         3  1408038735       831.75\n47         3  1408038933       831.75\n58         3  1408036076       831.75\n61         3  1408039050       831.75\n62         3  1408038908       831.75\n68         3  1408038568       831.75\n70         3  1408032143       831.75\n71         3  1408037529       831.75\n73         3  1408038045       831.75\nCLuster no:  4\n"
     ]
    },
    {
     "name": "stderr",
     "output_type": "stream",
     "text": [
      "C:\\Users\\Pallav Gupta\\AppData\\Local\\Programs\\Python\\Python36-32\\lib\\site-packages\\sklearn\\ensemble\\forest.py:248: FutureWarning: The default value of n_estimators will change from 10 in version 0.20 to 100 in 0.22.\n  \"10 in version 0.20 to 100 in 0.22.\", FutureWarning)\nC:\\Users\\Pallav Gupta\\AppData\\Local\\Programs\\Python\\Python36-32\\lib\\site-packages\\ipykernel_launcher.py:22: SettingWithCopyWarning: \nA value is trying to be set on a copy of a slice from a DataFrame.\nTry using .loc[row_indexer,col_indexer] = value instead\n\nSee the caveats in the documentation: http://pandas.pydata.org/pandas-docs/stable/indexing.html#indexing-view-versus-copy\nC:\\Users\\Pallav Gupta\\AppData\\Local\\Programs\\Python\\Python36-32\\lib\\site-packages\\pandas\\core\\frame.py:3697: SettingWithCopyWarning: \nA value is trying to be set on a copy of a slice from a DataFrame\n\nSee the caveats in the documentation: http://pandas.pydata.org/pandas-docs/stable/indexing.html#indexing-view-versus-copy\n  errors=errors)\n"
     ]
    },
    {
     "name": "stdout",
     "output_type": "stream",
     "text": [
      "    CALL_TYPE   TIMESTAMP  TRAVEL_TIME\n228         2  1414814368        472.5\n230         2  1414813869        472.5\n239         2  1414813943        472.5\n242         2  1414814069        472.5\n246         2  1414814328        472.5\n249         2  1414813904        472.5\n250         2  1414814326        472.5\n254         2  1414813898        472.5\n265         2  1414814121        472.5\n273         2  1414814108        472.5\n275         2  1414814209        472.5\n276         2  1414814293        472.5\n283         2  1414814191        472.5\nCLuster no:  5\n"
     ]
    },
    {
     "name": "stderr",
     "output_type": "stream",
     "text": [
      "C:\\Users\\Pallav Gupta\\AppData\\Local\\Programs\\Python\\Python36-32\\lib\\site-packages\\sklearn\\ensemble\\forest.py:248: FutureWarning: The default value of n_estimators will change from 10 in version 0.20 to 100 in 0.22.\n  \"10 in version 0.20 to 100 in 0.22.\", FutureWarning)\nC:\\Users\\Pallav Gupta\\AppData\\Local\\Programs\\Python\\Python36-32\\lib\\site-packages\\ipykernel_launcher.py:22: SettingWithCopyWarning: \nA value is trying to be set on a copy of a slice from a DataFrame.\nTry using .loc[row_indexer,col_indexer] = value instead\n\nSee the caveats in the documentation: http://pandas.pydata.org/pandas-docs/stable/indexing.html#indexing-view-versus-copy\nC:\\Users\\Pallav Gupta\\AppData\\Local\\Programs\\Python\\Python36-32\\lib\\site-packages\\pandas\\core\\frame.py:3697: SettingWithCopyWarning: \nA value is trying to be set on a copy of a slice from a DataFrame\n\nSee the caveats in the documentation: http://pandas.pydata.org/pandas-docs/stable/indexing.html#indexing-view-versus-copy\n  errors=errors)\n"
     ]
    },
    {
     "name": "stdout",
     "output_type": "stream",
     "text": [
      "    CALL_TYPE   TIMESTAMP  TRAVEL_TIME\n151         1  1412617360       1309.5\n153         1  1412617328       1309.5\n157         1  1412617430       1309.5\n160         1  1412617017       1309.5\n162         1  1412617130       1309.5\n164         1  1412617212       1309.5\n167         1  1412617220       1309.5\n177         1  1412617397       1309.5\n178         1  1412616648       1309.5\n179         1  1412617132       1309.5\n182         1  1412617058       1309.5\n186         1  1412617104       1309.5\n190         1  1412617188       1309.5\n192         1  1412617302       1309.5\n201         1  1412617369       1309.5\n207         1  1412617421       1309.5\n208         1  1412617363       1309.5\n215         1  1412615786       1309.5\n222         1  1412612095       1309.5\n227         1  1412617182       1309.5\n243         1  1414814321       1309.5\n252         1  1414813685       1309.5\n285         1  1414813346       1309.5\nCLuster no:  6\n"
     ]
    },
    {
     "name": "stderr",
     "output_type": "stream",
     "text": [
      "C:\\Users\\Pallav Gupta\\AppData\\Local\\Programs\\Python\\Python36-32\\lib\\site-packages\\sklearn\\ensemble\\forest.py:248: FutureWarning: The default value of n_estimators will change from 10 in version 0.20 to 100 in 0.22.\n  \"10 in version 0.20 to 100 in 0.22.\", FutureWarning)\nC:\\Users\\Pallav Gupta\\AppData\\Local\\Programs\\Python\\Python36-32\\lib\\site-packages\\ipykernel_launcher.py:22: SettingWithCopyWarning: \nA value is trying to be set on a copy of a slice from a DataFrame.\nTry using .loc[row_indexer,col_indexer] = value instead\n\nSee the caveats in the documentation: http://pandas.pydata.org/pandas-docs/stable/indexing.html#indexing-view-versus-copy\nC:\\Users\\Pallav Gupta\\AppData\\Local\\Programs\\Python\\Python36-32\\lib\\site-packages\\pandas\\core\\frame.py:3697: SettingWithCopyWarning: \nA value is trying to be set on a copy of a slice from a DataFrame\n\nSee the caveats in the documentation: http://pandas.pydata.org/pandas-docs/stable/indexing.html#indexing-view-versus-copy\n  errors=errors)\n"
     ]
    },
    {
     "name": "stdout",
     "output_type": "stream",
     "text": [
      "    CALL_TYPE   TIMESTAMP  TRAVEL_TIME\n75          3  1412065616        999.0\n77          3  1412065216        999.0\n78          3  1412065607        999.0\n79          3  1412064425        999.0\n86          3  1412065034        999.0\n87          3  1412065239        999.0\n91          3  1412065077        999.0\n92          3  1412065151        999.0\n95          3  1412063625        999.0\n99          3  1412064908        999.0\n102         3  1412065118        999.0\n115         3  1412065454        999.0\n118         3  1412064991        999.0\n125         3  1412059472        999.0\n126         3  1412065252        999.0\n128         3  1412064883        999.0\n132         3  1412060523        999.0\n133         3  1412065618        999.0\n134         3  1412065590        999.0\n135         3  1412065117        999.0\n140         3  1412065394        999.0\n147         3  1412064845        999.0\n152         3  1412617161        999.0\n154         3  1412616773        999.0\n161         3  1412616811        999.0\n166         3  1412611978        999.0\n168         3  1412617459        999.0\n172         3  1412617253        999.0\n175         3  1412617464        999.0\n183         3  1412617390        999.0\n185         3  1412617473        999.0\n189         3  1412614136        999.0\n193         3  1412617053        999.0\n195         3  1412617323        999.0\n196         3  1412617440        999.0\n198         3  1412612597        999.0\n200         3  1412608325        999.0\n203         3  1412615890        999.0\n204         3  1412617313        999.0\n209         3  1412615838        999.0\n212         3  1412615061        999.0\n220         3  1412614265        999.0\n221         3  1412616642        999.0\n223         3  1412616687        999.0\n226         3  1412617234        999.0\nCLuster no:  7\n"
     ]
    },
    {
     "name": "stderr",
     "output_type": "stream",
     "text": [
      "C:\\Users\\Pallav Gupta\\AppData\\Local\\Programs\\Python\\Python36-32\\lib\\site-packages\\sklearn\\ensemble\\forest.py:248: FutureWarning: The default value of n_estimators will change from 10 in version 0.20 to 100 in 0.22.\n  \"10 in version 0.20 to 100 in 0.22.\", FutureWarning)\nC:\\Users\\Pallav Gupta\\AppData\\Local\\Programs\\Python\\Python36-32\\lib\\site-packages\\ipykernel_launcher.py:22: SettingWithCopyWarning: \nA value is trying to be set on a copy of a slice from a DataFrame.\nTry using .loc[row_indexer,col_indexer] = value instead\n\nSee the caveats in the documentation: http://pandas.pydata.org/pandas-docs/stable/indexing.html#indexing-view-versus-copy\nC:\\Users\\Pallav Gupta\\AppData\\Local\\Programs\\Python\\Python36-32\\lib\\site-packages\\pandas\\core\\frame.py:3697: SettingWithCopyWarning: \nA value is trying to be set on a copy of a slice from a DataFrame\n\nSee the caveats in the documentation: http://pandas.pydata.org/pandas-docs/stable/indexing.html#indexing-view-versus-copy\n  errors=errors)\n"
     ]
    },
    {
     "name": "stdout",
     "output_type": "stream",
     "text": [
      "    CALL_TYPE   TIMESTAMP  TRAVEL_TIME\n290         2  1419171969        540.0\n295         2  1419172159        540.0\n297         2  1419171753        540.0\n310         2  1419171921        540.0\n316         2  1419170802        540.0\nCLuster no:  8\n"
     ]
    },
    {
     "name": "stderr",
     "output_type": "stream",
     "text": [
      "C:\\Users\\Pallav Gupta\\AppData\\Local\\Programs\\Python\\Python36-32\\lib\\site-packages\\sklearn\\ensemble\\forest.py:248: FutureWarning: The default value of n_estimators will change from 10 in version 0.20 to 100 in 0.22.\n  \"10 in version 0.20 to 100 in 0.22.\", FutureWarning)\nC:\\Users\\Pallav Gupta\\AppData\\Local\\Programs\\Python\\Python36-32\\lib\\site-packages\\ipykernel_launcher.py:22: SettingWithCopyWarning: \nA value is trying to be set on a copy of a slice from a DataFrame.\nTry using .loc[row_indexer,col_indexer] = value instead\n\nSee the caveats in the documentation: http://pandas.pydata.org/pandas-docs/stable/indexing.html#indexing-view-versus-copy\nC:\\Users\\Pallav Gupta\\AppData\\Local\\Programs\\Python\\Python36-32\\lib\\site-packages\\pandas\\core\\frame.py:3697: SettingWithCopyWarning: \nA value is trying to be set on a copy of a slice from a DataFrame\n\nSee the caveats in the documentation: http://pandas.pydata.org/pandas-docs/stable/indexing.html#indexing-view-versus-copy\n  errors=errors)\n"
     ]
    },
    {
     "name": "stdout",
     "output_type": "stream",
     "text": [
      "    CALL_TYPE   TIMESTAMP  TRAVEL_TIME\n74          2  1412064770        612.0\n76          2  1412065748        612.0\n81          2  1412065511        612.0\n84          2  1412065383        612.0\n88          2  1412064941        612.0\n94          2  1412062316        612.0\n100         2  1412064784        612.0\n101         2  1412064987        612.0\n103         2  1412065419        612.0\n104         2  1412065469        612.0\n106         2  1412065366        612.0\n107         2  1412064094        612.0\n108         2  1412065648        612.0\n112         2  1412065507        612.0\n116         2  1412064713        612.0\n117         2  1412063197        612.0\n119         2  1412065635        612.0\n124         2  1412064808        612.0\n129         2  1412065261        612.0\n130         2  1412065555        612.0\n131         2  1412065013        612.0\n136         2  1412065155        612.0\n137         2  1412065092        612.0\n141         2  1412065486        612.0\n143         2  1412063454        612.0\n146         2  1412065555        612.0\n148         2  1412065195        612.0\n149         2  1412064580        612.0\nCLuster no:  9\n"
     ]
    },
    {
     "name": "stderr",
     "output_type": "stream",
     "text": [
      "C:\\Users\\Pallav Gupta\\AppData\\Local\\Programs\\Python\\Python36-32\\lib\\site-packages\\sklearn\\ensemble\\forest.py:248: FutureWarning: The default value of n_estimators will change from 10 in version 0.20 to 100 in 0.22.\n  \"10 in version 0.20 to 100 in 0.22.\", FutureWarning)\nC:\\Users\\Pallav Gupta\\AppData\\Local\\Programs\\Python\\Python36-32\\lib\\site-packages\\ipykernel_launcher.py:22: SettingWithCopyWarning: \nA value is trying to be set on a copy of a slice from a DataFrame.\nTry using .loc[row_indexer,col_indexer] = value instead\n\nSee the caveats in the documentation: http://pandas.pydata.org/pandas-docs/stable/indexing.html#indexing-view-versus-copy\nC:\\Users\\Pallav Gupta\\AppData\\Local\\Programs\\Python\\Python36-32\\lib\\site-packages\\pandas\\core\\frame.py:3697: SettingWithCopyWarning: \nA value is trying to be set on a copy of a slice from a DataFrame\n\nSee the caveats in the documentation: http://pandas.pydata.org/pandas-docs/stable/indexing.html#indexing-view-versus-copy\n  errors=errors)\n"
     ]
    },
    {
     "name": "stdout",
     "output_type": "stream",
     "text": [
      "    CALL_TYPE   TIMESTAMP  TRAVEL_TIME\n292         1  1419171407       447.25\n294         1  1419171742       447.25\n296         1  1419172057       447.25\n302         1  1419171991       447.25\n304         1  1419171813       447.25\n305         1  1419171819       447.25\n306         1  1419171903       447.25\n307         1  1419171879       447.25\n309         1  1419171826       447.25\n311         1  1419171095       447.25\n312         1  1419164220       447.25\n315         1  1419171485       447.25\n318         1  1419171980       447.25\n319         1  1419171420       447.25\nCLuster no:  10\n"
     ]
    },
    {
     "name": "stderr",
     "output_type": "stream",
     "text": [
      "C:\\Users\\Pallav Gupta\\AppData\\Local\\Programs\\Python\\Python36-32\\lib\\site-packages\\sklearn\\ensemble\\forest.py:248: FutureWarning: The default value of n_estimators will change from 10 in version 0.20 to 100 in 0.22.\n  \"10 in version 0.20 to 100 in 0.22.\", FutureWarning)\nC:\\Users\\Pallav Gupta\\AppData\\Local\\Programs\\Python\\Python36-32\\lib\\site-packages\\ipykernel_launcher.py:22: SettingWithCopyWarning: \nA value is trying to be set on a copy of a slice from a DataFrame.\nTry using .loc[row_indexer,col_indexer] = value instead\n\nSee the caveats in the documentation: http://pandas.pydata.org/pandas-docs/stable/indexing.html#indexing-view-versus-copy\nC:\\Users\\Pallav Gupta\\AppData\\Local\\Programs\\Python\\Python36-32\\lib\\site-packages\\pandas\\core\\frame.py:3697: SettingWithCopyWarning: \nA value is trying to be set on a copy of a slice from a DataFrame\n\nSee the caveats in the documentation: http://pandas.pydata.org/pandas-docs/stable/indexing.html#indexing-view-versus-copy\n  errors=errors)\nC:\\Users\\Pallav Gupta\\AppData\\Local\\Programs\\Python\\Python36-32\\lib\\site-packages\\sklearn\\ensemble\\forest.py:248: FutureWarning: The default value of n_estimators will change from 10 in version 0.20 to 100 in 0.22.\n  \"10 in version 0.20 to 100 in 0.22.\", FutureWarning)\n"
     ]
    },
    {
     "name": "stdout",
     "output_type": "stream",
     "text": [
      "    CALL_TYPE   TIMESTAMP  TRAVEL_TIME\n229         3  1414814046        417.0\n231         3  1414813836        417.0\n232         3  1414813786        417.0\n233         3  1414813807        417.0\n234         3  1414814091        417.0\n235         3  1414813993        417.0\n236         3  1414814238        417.0\n237         3  1414813844        417.0\n238         3  1414813429        417.0\n240         3  1414814115        417.0\n241         3  1414814185        417.0\n244         3  1414813991        417.0\n245         3  1414813121        417.0\n247         3  1414813172        417.0\n248         3  1414813960        417.0\n251         3  1414814340        417.0\n253         3  1414813496        417.0\n255         3  1414814186        417.0\n256         3  1414814296        417.0\n257         3  1414813834        417.0\n258         3  1414814337        417.0\n259         3  1414814176        417.0\n260         3  1414814117        417.0\n261         3  1414814136        417.0\n262         3  1414813835        417.0\n263         3  1414813723        417.0\n264         3  1414814289        417.0\n266         3  1414814236        417.0\n267         3  1414814209        417.0\n268         3  1414813881        417.0\n269         3  1414813333        417.0\n270         3  1414814043        417.0\n271         3  1414814366        417.0\n272         3  1414813465        417.0\n274         3  1414814088        417.0\n277         3  1414814310        417.0\n278         3  1414814070        417.0\n279         3  1414814359        417.0\n280         3  1414809617        417.0\n281         3  1414814358        417.0\n282         3  1414814061        417.0\n284         3  1414813865        417.0\n286         3  1414814084        417.0\n287         3  1414813672        417.0\n288         3  1414814057        417.0\n289         3  1414814122        417.0\nCLuster no:  11\n"
     ]
    },
    {
     "name": "stderr",
     "output_type": "stream",
     "text": [
      "C:\\Users\\Pallav Gupta\\AppData\\Local\\Programs\\Python\\Python36-32\\lib\\site-packages\\ipykernel_launcher.py:22: SettingWithCopyWarning: \nA value is trying to be set on a copy of a slice from a DataFrame.\nTry using .loc[row_indexer,col_indexer] = value instead\n\nSee the caveats in the documentation: http://pandas.pydata.org/pandas-docs/stable/indexing.html#indexing-view-versus-copy\nC:\\Users\\Pallav Gupta\\AppData\\Local\\Programs\\Python\\Python36-32\\lib\\site-packages\\pandas\\core\\frame.py:3697: SettingWithCopyWarning: \nA value is trying to be set on a copy of a slice from a DataFrame\n\nSee the caveats in the documentation: http://pandas.pydata.org/pandas-docs/stable/indexing.html#indexing-view-versus-copy\n  errors=errors)\nC:\\Users\\Pallav Gupta\\AppData\\Local\\Programs\\Python\\Python36-32\\lib\\site-packages\\sklearn\\ensemble\\forest.py:248: FutureWarning: The default value of n_estimators will change from 10 in version 0.20 to 100 in 0.22.\n  \"10 in version 0.20 to 100 in 0.22.\", FutureWarning)\n"
     ]
    },
    {
     "name": "stdout",
     "output_type": "stream",
     "text": [
      "    CALL_TYPE   TIMESTAMP  TRAVEL_TIME\n80          1  1412065294       211.25\n82          1  1412065076       211.25\n83          1  1412064356       211.25\n85          1  1412065159       211.25\n89          1  1412065051       211.25\n90          1  1412064659       211.25\n93          1  1412065352       211.25\n96          1  1412064343       211.25\n97          1  1412064778       211.25\n98          1  1412065446       211.25\n105         1  1412065567       211.25\n109         1  1412065352       211.25\n110         1  1412065329       211.25\n111         1  1412065271       211.25\n113         1  1412065389       211.25\n114         1  1412065379       211.25\n120         1  1412065266       211.25\n121         1  1412065621       211.25\n122         1  1412065784       211.25\n123         1  1412065476       211.25\n127         1  1412065285       211.25\n138         1  1412065220       211.25\n139         1  1412065112       211.25\n142         1  1412064430       211.25\n144         1  1412065395       211.25\n145         1  1412065494       211.25\n150         1  1412065619       211.25\nCLuster no:  12\n"
     ]
    },
    {
     "name": "stderr",
     "output_type": "stream",
     "text": [
      "C:\\Users\\Pallav Gupta\\AppData\\Local\\Programs\\Python\\Python36-32\\lib\\site-packages\\ipykernel_launcher.py:22: SettingWithCopyWarning: \nA value is trying to be set on a copy of a slice from a DataFrame.\nTry using .loc[row_indexer,col_indexer] = value instead\n\nSee the caveats in the documentation: http://pandas.pydata.org/pandas-docs/stable/indexing.html#indexing-view-versus-copy\nC:\\Users\\Pallav Gupta\\AppData\\Local\\Programs\\Python\\Python36-32\\lib\\site-packages\\pandas\\core\\frame.py:3697: SettingWithCopyWarning: \nA value is trying to be set on a copy of a slice from a DataFrame\n\nSee the caveats in the documentation: http://pandas.pydata.org/pandas-docs/stable/indexing.html#indexing-view-versus-copy\n  errors=errors)\nC:\\Users\\Pallav Gupta\\AppData\\Local\\Programs\\Python\\Python36-32\\lib\\site-packages\\sklearn\\ensemble\\forest.py:248: FutureWarning: The default value of n_estimators will change from 10 in version 0.20 to 100 in 0.22.\n  \"10 in version 0.20 to 100 in 0.22.\", FutureWarning)\n"
     ]
    },
    {
     "name": "stdout",
     "output_type": "stream",
     "text": [
      "   CALL_TYPE   TIMESTAMP  TRAVEL_TIME\n0          2  1408039037        267.6\n1          2  1408038611        267.6\n2          2  1408038568        267.6\n3          2  1408039090        267.6\n4          2  1408039177        267.6\n6          2  1408038846        267.6\n8          2  1408038563        267.6\n9          2  1408038021        267.6\n10         2  1408038267        267.6\n18         2  1408038749        267.6\n20         2  1408039125        267.6\n23         2  1408039145        267.6\n24         2  1408039057        267.6\n25         2  1408039029        267.6\n26         2  1408038859        267.6\n27         2  1408039165        267.6\n28         2  1408038439        267.6\n29         2  1408038605        267.6\n30         2  1408038529        267.6\n31         2  1408038808        267.6\n37         2  1408038796        267.6\n38         2  1408039102        267.6\n39         2  1408038865        267.6\n40         2  1408038486        267.6\n43         2  1408038310        267.6\n44         2  1408038968        267.6\n45         2  1408039014        267.6\n48         2  1408038625        267.6\n49         2  1408038317        267.6\n50         2  1408038249        267.6\n51         2  1408038869        267.6\n52         2  1408038925        267.6\n53         2  1408038555        267.6\n54         2  1408038627        267.6\n55         2  1408038850        267.6\n56         2  1408038404        267.6\n57         2  1408038871        267.6\n60         2  1408038972        267.6\n64         2  1408038861        267.6\n65         2  1408038313        267.6\n66         2  1408038813        267.6\n69         2  1408039080        267.6\n72         2  1408039046        267.6\nCLuster no:  13\nCLuster no:  14\n"
     ]
    },
    {
     "name": "stdout",
     "output_type": "stream",
     "text": [
      "    CALL_TYPE   TIMESTAMP  TRAVEL_TIME\n155         2  1412617225        684.0\n156         2  1412617178        684.0\n158         2  1412616796        684.0\n159         2  1412617121        684.0\n163         2  1412616790        684.0\n165         2  1412616610        684.0\n169         2  1412617383        684.0\n170         2  1412616424        684.0\n171         2  1412616445        684.0\n173         2  1412615860        684.0\n174         2  1412617473        684.0\n176         2  1412616274        684.0\n180         2  1412616656        684.0\n181         2  1412617407        684.0\n184         2  1412616996        684.0\n187         2  1412617425        684.0\n188         2  1412617312        684.0\n191         2  1412616826        684.0\n194         2  1412616812        684.0\n197         2  1412617001        684.0\n199         2  1412616304        684.0\n202         2  1412617227        684.0\n205         2  1412616988        684.0\n206         2  1412616861        684.0\n210         2  1412616212        684.0\n211         2  1412617300        684.0\n213         2  1412617202        684.0\n214         2  1412616701        684.0\n216         2  1412613945        684.0\n217         2  1412616098        684.0\n218         2  1412617191        684.0\n219         2  1412617117        684.0\n224         2  1412617453        684.0\n225         2  1412617036        684.0\n"
     ]
    },
    {
     "name": "stderr",
     "output_type": "stream",
     "text": [
      "C:\\Users\\Pallav Gupta\\AppData\\Local\\Programs\\Python\\Python36-32\\lib\\site-packages\\ipykernel_launcher.py:22: SettingWithCopyWarning: \nA value is trying to be set on a copy of a slice from a DataFrame.\nTry using .loc[row_indexer,col_indexer] = value instead\n\nSee the caveats in the documentation: http://pandas.pydata.org/pandas-docs/stable/indexing.html#indexing-view-versus-copy\n"
     ]
    }
   ],
   "source": [
    "train_data_clean[\"TRAVEL_TIME\"] = yi_train\n",
    "# print(train_data_clean[0:10])\n",
    "\n",
    "for i in range(15):\n",
    "    print(\"CLuster no: \", i)\n",
    "    data_req = train_data_clean[train_data_clean[\"CLUSTERS\"] == i]\n",
    "    yi = data_req['TRAVEL_TIME']\n",
    "    data_req.drop(\"TRAVEL_TIME\", axis = 1, inplace=True)\n",
    "    data_req.drop(\"CLUSTERS\", axis = 1, inplace=True)\n",
    "    \n",
    "    # print(data_req[0:10])\n",
    "    data_req_test = test_data_clean[test_data_clean[\"CLUSTERS\"] == i]\n",
    "    data_req_test.drop(\"CLUSTERS\", axis = 1, inplace=True)\n",
    "    if data_req_test.shape[0] == 0:\n",
    "        continue\n",
    "    \n",
    "    random_forest_reg = RandomForestRegressor()\n",
    "    random_forest_reg.fit(data_req, yi)\n",
    "    \n",
    "    predicted = random_forest_reg.predict(data_req_test)\n",
    "    \n",
    "    data_req_test[\"TRAVEL_TIME\"] = predicted\n",
    "    \n",
    "    print(data_req_test)\n",
    "    \n",
    "    "
   ]
  },
  {
   "cell_type": "code",
   "execution_count": 95,
   "metadata": {},
   "outputs": [],
   "source": [
    ""
   ]
  },
  {
   "cell_type": "code",
   "execution_count": null,
   "metadata": {},
   "outputs": [],
   "source": []
  }
 ],
 "metadata": {
  "kernelspec": {
   "display_name": "Python 2",
   "language": "python",
   "name": "python2"
  },
  "language_info": {
   "codemirror_mode": {
    "name": "ipython",
    "version": 2
   },
   "file_extension": ".py",
   "mimetype": "text/x-python",
   "name": "python",
   "nbconvert_exporter": "python",
   "pygments_lexer": "ipython2",
   "version": "2.7.6"
  }
 },
 "nbformat": 4,
 "nbformat_minor": 0
}
