{
 "cells": [
  {
   "cell_type": "code",
   "execution_count": 1,
   "metadata": {
    "collapsed": true
   },
   "outputs": [],
   "source": [
    "import numpy as np\n",
    "from sklearn import datasets, linear_model, metrics\n",
    "from sklearn.metrics import mean_squared_error\n",
    "from sklearn.ensemble import RandomForestRegressor\n",
    "import geopy.distance\n",
    "import datetime\n",
    "import csv\n",
    "\n",
    "def time_from_polyline(polyline):\n",
    "    return (len(polyline)-1)*15\n",
    "\n",
    "\n",
    "def list_from_polyline_string(polyline_str):\n",
    "    final_polyline = []\n",
    "    c = 0\n",
    "    while c < len(polyline_str):\n",
    "        if c == 0 or c == len(polyline_str)-1:\n",
    "            c += 1\n",
    "        else:\n",
    "            coords = []\n",
    "            if polyline_str[c] == \"[\":\n",
    "                c += 1\n",
    "                d = c\n",
    "                while polyline_str[d] != \",\":\n",
    "                    d += 1\n",
    "                coords.append(float(polyline_str[c:d]))\n",
    "                d += 1\n",
    "                c = d\n",
    "                while polyline_str[d] != \"]\":\n",
    "                    d += 1\n",
    "                coords.append(float(polyline_str[c:d]))\n",
    "                d += 1\n",
    "                c = d\n",
    "\n",
    "                final_polyline.append(coords)\n",
    "                c += 1\n",
    "            else:\n",
    "                c += 1\n",
    "\n",
    "    return final_polyline\n",
    "\n",
    "\n",
    "def distance_gps_coordinates(c1, c2):\n",
    "    return geopy.distance.vincenty(c1, c2).miles\n",
    "\n",
    "\n",
    "def distance_from_polyline(polyline):\n",
    "    final_dist = 0.00\n",
    "    for i in range(len(polyline)):\n",
    "        if i == len(polyline)-1:\n",
    "            break\n",
    "        else:\n",
    "            final_dist += distance_gps_coordinates(polyline[i], polyline[i+1])\n",
    "\n",
    "    return final_dist\n",
    "\n",
    "# Returns hour and day of the week\n",
    "def from_unix_timestamp(ts):\n",
    "    dt = datetime.datetime.fromtimestamp(ts)\n",
    "    hour = dt.hour\n",
    "    week_day = dt.weekday()\n",
    "    # print(hour, week_day)\n",
    "    return hour, week_day\n"
   ]
  },
  {
   "cell_type": "code",
   "execution_count": 2,
   "metadata": {
    "collapsed": false
   },
   "outputs": [
    {
     "name": "stdout",
     "output_type": "stream",
     "text": [
      "Processed 64 lines.\n"
     ]
    }
   ],
   "source": [
    "taxi_stand_id_to_lat_lon = {}\n",
    "with open('data/metaData_taxistandsID_name_GPSlocation.csv') as csv_file:\n",
    "    csv_reader = csv.reader(csv_file, delimiter=',')\n",
    "    line_count = 0\n",
    "    for row in csv_reader:\n",
    "        if line_count == 0:\n",
    "            # print(row)\n",
    "            line_count += 1\n",
    "        else:\n",
    "            taxi_stand_id_to_lat_lon[int(row[0])] = [float(row[2]), float(row[3])]\n",
    "            line_count += 1\n",
    "\n",
    "    print(f'Processed {line_count} lines.')\n"
   ]
  },
  {
   "cell_type": "code",
   "execution_count": 3,
   "metadata": {
    "collapsed": false
   },
   "outputs": [
    {
     "ename": "KeyboardInterrupt",
     "evalue": "",
     "traceback": [
      "\u001b[0;31m---------------------------------------------------------------------------\u001b[0m",
      "\u001b[0;31mKeyboardInterrupt\u001b[0m                         Traceback (most recent call last)",
      "\u001b[0;32m<ipython-input-3-15a8cf40090c>\u001b[0m in \u001b[0;36m<module>\u001b[0;34m()\u001b[0m\n\u001b[1;32m      5\u001b[0m     \u001b[0mcsv_reader\u001b[0m \u001b[0;34m=\u001b[0m \u001b[0mcsv\u001b[0m\u001b[0;34m.\u001b[0m\u001b[0mreader\u001b[0m\u001b[0;34m(\u001b[0m\u001b[0mcsv_file\u001b[0m\u001b[0;34m,\u001b[0m \u001b[0mdelimiter\u001b[0m\u001b[0;34m=\u001b[0m\u001b[0;34m','\u001b[0m\u001b[0;34m)\u001b[0m\u001b[0;34m\u001b[0m\u001b[0m\n\u001b[1;32m      6\u001b[0m     \u001b[0mline_count\u001b[0m \u001b[0;34m=\u001b[0m \u001b[0;36m0\u001b[0m\u001b[0;34m\u001b[0m\u001b[0m\n\u001b[0;32m----> 7\u001b[0;31m     \u001b[0;32mfor\u001b[0m \u001b[0mrow\u001b[0m \u001b[0;32min\u001b[0m \u001b[0mcsv_reader\u001b[0m\u001b[0;34m:\u001b[0m\u001b[0;34m\u001b[0m\u001b[0m\n\u001b[0m\u001b[1;32m      8\u001b[0m         \u001b[0;32mif\u001b[0m \u001b[0mline_count\u001b[0m \u001b[0;34m==\u001b[0m \u001b[0;36m0\u001b[0m\u001b[0;34m:\u001b[0m\u001b[0;34m\u001b[0m\u001b[0m\n\u001b[1;32m      9\u001b[0m             \u001b[0;31m# print(row)\u001b[0m\u001b[0;34m\u001b[0m\u001b[0;34m\u001b[0m\u001b[0m\n",
      "\u001b[0;32mC:\\Users\\Pallav Gupta\\AppData\\Local\\Programs\\Python\\Python36-32\\lib\\encodings\\cp1252.py\u001b[0m in \u001b[0;36mdecode\u001b[0;34m(self, input, final)\u001b[0m\n\u001b[1;32m     20\u001b[0m \u001b[0;34m\u001b[0m\u001b[0m\n\u001b[1;32m     21\u001b[0m \u001b[0;32mclass\u001b[0m \u001b[0mIncrementalDecoder\u001b[0m\u001b[0;34m(\u001b[0m\u001b[0mcodecs\u001b[0m\u001b[0;34m.\u001b[0m\u001b[0mIncrementalDecoder\u001b[0m\u001b[0;34m)\u001b[0m\u001b[0;34m:\u001b[0m\u001b[0;34m\u001b[0m\u001b[0m\n\u001b[0;32m---> 22\u001b[0;31m     \u001b[0;32mdef\u001b[0m \u001b[0mdecode\u001b[0m\u001b[0;34m(\u001b[0m\u001b[0mself\u001b[0m\u001b[0;34m,\u001b[0m \u001b[0minput\u001b[0m\u001b[0;34m,\u001b[0m \u001b[0mfinal\u001b[0m\u001b[0;34m=\u001b[0m\u001b[0;32mFalse\u001b[0m\u001b[0;34m)\u001b[0m\u001b[0;34m:\u001b[0m\u001b[0;34m\u001b[0m\u001b[0m\n\u001b[0m\u001b[1;32m     23\u001b[0m         \u001b[0;32mreturn\u001b[0m \u001b[0mcodecs\u001b[0m\u001b[0;34m.\u001b[0m\u001b[0mcharmap_decode\u001b[0m\u001b[0;34m(\u001b[0m\u001b[0minput\u001b[0m\u001b[0;34m,\u001b[0m\u001b[0mself\u001b[0m\u001b[0;34m.\u001b[0m\u001b[0merrors\u001b[0m\u001b[0;34m,\u001b[0m\u001b[0mdecoding_table\u001b[0m\u001b[0;34m)\u001b[0m\u001b[0;34m[\u001b[0m\u001b[0;36m0\u001b[0m\u001b[0;34m]\u001b[0m\u001b[0;34m\u001b[0m\u001b[0m\n\u001b[1;32m     24\u001b[0m \u001b[0;34m\u001b[0m\u001b[0m\n",
      "\u001b[0;31mKeyboardInterrupt\u001b[0m: "
     ],
     "output_type": "error"
    }
   ],
   "source": [
    "trip_metrics = []\n",
    "target_distance_yi = []\n",
    "trip_time_yi = []\n",
    "with open('data/train.csv') as csv_file:\n",
    "    csv_reader = csv.reader(csv_file, delimiter=',')\n",
    "    line_count = 0\n",
    "    for row in csv_reader:\n",
    "        if line_count == 0:\n",
    "            # print(row)\n",
    "            line_count += 1\n",
    "        else:\n",
    "            if row[7] == \"True\" or row[1] == \"A\" or row[1] == \"C\" or row[3] == '':\n",
    "                continue\n",
    "            timestamp = int(row[5])\n",
    "            hour, weekday = from_unix_timestamp(timestamp)\n",
    "            origin_stand_lat = taxi_stand_id_to_lat_lon[int(row[3])][0]\n",
    "            origin_stand_lon = taxi_stand_id_to_lat_lon[int(row[3])][1]\n",
    "            distance_yi = distance_from_polyline(list_from_polyline_string(row[8]))\n",
    "            time_yi = time_from_polyline(list_from_polyline_string(row[8]))\n",
    "\n",
    "            trip_metrics.append([hour+1, weekday+1, origin_stand_lat, origin_stand_lon])\n",
    "            target_distance_yi.append(distance_yi)\n",
    "            trip_time_yi.append(time_yi)\n",
    "            line_count += 1\n",
    "            if line_count % 100000 == 0:\n",
    "                print(line_count)\n",
    "    # print(trip_metrics[0:1000])\n",
    "    print(f'Processed {line_count} lines.')\n"
   ]
  },
  {
   "cell_type": "code",
   "execution_count": 149,
   "metadata": {
    "collapsed": true
   },
   "outputs": [
    {
     "name": "stdout",
     "output_type": "stream",
     "text": [
      "[0.2628653  0.41791606 0.09340451 0.22581413]\n<class 'float'>\n2.770541981877506 [21, 7, 41.1599801853, -8.64198392478]\n[[21, 7, 41.1599801853, -8.64198392478, 2.770541981877506], [21, 7, 41.1570891314, -8.6284679801, 8.793808856358321], [21, 7, 41.1632224305, -8.58404677278, 6.81138604639563], [21, 7, 41.1607148883, -8.60424608207, 2.5965127593800563], [21, 7, 41.1549650972, -8.61321698848, 2.654559933886262], [21, 7, 41.1460158298, -8.61257471887, 2.564174115946839], [21, 7, 41.168317889, -8.68917996027, 3.7360540143833716], [22, 7, 41.1570891314, -8.6284679801, 1.6911279234303223], [22, 7, 41.168317889, -8.68917996027, 3.0291819979056323], [22, 7, 41.1570891314, -8.6284679801, 1.6911279234303223]]\n"
     ]
    },
    {
     "name": "stderr",
     "output_type": "stream",
     "text": [
      "C:\\Users\\Pallav Gupta\\AppData\\Local\\Programs\\Python\\Python36-32\\lib\\site-packages\\sklearn\\ensemble\\forest.py:248: FutureWarning: The default value of n_estimators will change from 10 in version 0.20 to 100 in 0.22.\n  \"10 in version 0.20 to 100 in 0.22.\", FutureWarning)\n"
     ]
    }
   ],
   "source": [
    "trip_metrics_dash = []\n",
    "for i in range(len(trip_metrics)):\n",
    "    l = []\n",
    "    l = trip_metrics[i][:]\n",
    "    trip_metrics_dash += [l]\n",
    "# trip_metrics_dash = trip_metrics_dash + trip_metrics\n",
    "\n",
    "target_distance_dash = []\n",
    "for i in range(len(target_distance_yi)):\n",
    "    target_distance_dash.append(target_distance_yi[i])\n",
    "\n",
    "# target_distance_dash = target_distance_dash + target_distance_yi\n",
    "\n",
    "xi = np.array(trip_metrics_dash)\n",
    "yi = np.array(target_distance_dash)\n",
    "# reg = linear_model.LinearRegression()\n",
    "# reg.fit(xi, yi)\n",
    "# distance_pred = reg.predict(xi)\n",
    "# print(distance_pred)\n",
    "# mse = mean_squared_error(yi, distance_pred)\n",
    "# print(reg.coef_)\n",
    "# print(type(reg.coef_))\n",
    "# print(reg.intercept_)\n",
    "# print(reg.score(xi, yi))\n",
    "# print(mse)\n",
    "\n",
    "\n",
    "random_forest_reg = RandomForestRegressor()\n",
    "random_forest_reg.fit(xi, yi)\n",
    "print(random_forest_reg.feature_importances_)\n",
    "\n",
    "predicted = random_forest_reg.predict(xi)\n",
    "for i in range(len(trip_metrics_dash)):\n",
    "    if i == 0:\n",
    "        print(type(predicted[i].item()))\n",
    "        print(predicted[i], trip_metrics_dash[i])\n",
    "    trip_metrics_dash[i] += [predicted[i].item()]\n",
    "    \n",
    "print(trip_metrics_dash[0:10])\n"
   ]
  },
  {
   "cell_type": "code",
   "execution_count": 150,
   "metadata": {},
   "outputs": [
    {
     "name": "stdout",
     "output_type": "stream",
     "text": [
      "Processed 124 lines.\n"
     ]
    }
   ],
   "source": [
    "trip_metrics_test = []\n",
    "with open('data/test_public.csv') as csv_file:\n",
    "    csv_reader = csv.reader(csv_file, delimiter=',')\n",
    "    line_count = 0\n",
    "    for row in csv_reader:\n",
    "        if line_count == 0:\n",
    "            # print(row)\n",
    "            line_count += 1\n",
    "        else:\n",
    "            if row[7] == \"True\" or row[1] == \"A\" or row[1] == \"C\" or row[3] == '':\n",
    "                continue\n",
    "            timestamp = int(row[5])\n",
    "            hour, weekday = from_unix_timestamp(timestamp)\n",
    "            origin_stand_lat = taxi_stand_id_to_lat_lon[int(row[3])][0]\n",
    "            origin_stand_lon = taxi_stand_id_to_lat_lon[int(row[3])][1]\n",
    "\n",
    "            trip_metrics_test.append([hour+1, weekday+1, origin_stand_lat, origin_stand_lon])\n",
    "            line_count += 1\n",
    "    # print(trip_metrics[0:1000])\n",
    "    print(f'Processed {line_count} lines.')\n"
   ]
  },
  {
   "cell_type": "code",
   "execution_count": 152,
   "metadata": {
    "collapsed": false
   },
   "outputs": [
    {
     "name": "stdout",
     "output_type": "stream",
     "text": [
      "[14, 4, 41.1486275073, -8.58587660305, 3.922974337933037] 3.922974337933037\n"
     ]
    }
   ],
   "source": [
    "trip_metrics_dash_test = []\n",
    "for i in range(len(trip_metrics_test)):\n",
    "    l = []\n",
    "    l = trip_metrics_test[i][:]\n",
    "    trip_metrics_dash_test += [l]\n",
    "# trip_metrics_dash = trip_metrics_dash + trip_metrics\n",
    "\n",
    "xi_test = np.array(trip_metrics_dash_test)\n",
    "predicted_test = random_forest_reg.predict(xi_test)\n",
    "\n",
    "for i in range(len(trip_metrics_dash_test)):\n",
    "    trip_metrics_dash_test[i] += [predicted_test[i].item()]\n",
    "    if i == 0:\n",
    "        print(trip_metrics_dash_test[i], predicted_test[i])"
   ]
  },
  {
   "cell_type": "code",
   "execution_count": 156,
   "metadata": {
    "collapsed": true
   },
   "outputs": [
    {
     "name": "stdout",
     "output_type": "stream",
     "text": [
      "9999 49995\n[ 624.92917073  622.35820118  624.92917073  707.75891436  625.72192462\n  624.92917073  863.89666084  624.92917073  631.86645737  624.92917073\n  624.92917073  624.92917073  664.10456594  526.47094839  624.92917073\n  624.92917073  580.01805258  624.92917073  624.92917073  622.35820118\n  673.49508094  624.92917073  557.88029237  626.2578528   863.89666084\n  713.41377099  769.94110133  602.14534317  631.86645737  613.78738268\n  679.37174325  673.49508094  624.92917073  624.92917073  597.06953711\n  863.89666084  617.96578696  624.92917073  863.89666084  863.89666084\n  624.92917073  613.78738268  624.92917073  760.99979014  569.85313246\n  605.05716567  598.13319552  610.6791842   622.63080066  598.13319552\n  717.93667455  595.69620382  595.69620382  658.41028756  574.48509962\n  717.93667455  639.10624199  740.45282933  653.48535209  687.83734445\n  595.69620382  595.69620382  595.69620382  760.99979014  791.40927101\n  740.45282933  595.69620382  678.70273144  610.6791842   717.93667455\n  716.57092488  579.83405158  678.43242013  611.30445123  671.87199591\n  648.23776425  676.46604079  542.73844659  660.06607426  632.3695043\n  580.62101445  581.68794135  588.11701027  659.86562768  654.14952114\n  578.64266634  570.55513695  654.14952114  536.04331268  678.43242013\n  536.04331268  659.86562768  852.30300124  628.92923828  542.73844659\n  611.30445123  654.14952114  691.49488499  662.3176979   556.05619352\n  544.35476887  559.99151754  671.87199591  588.11701027  654.2183646\n  565.63635274  565.63635274  527.68442127  494.183154    565.63635274\n  631.46480515 1007.93803658  631.46480515  631.46480515  502.57809546\n  571.77907465  631.46480515  631.46480515 1110.86139335  517.98663552\n  566.95284265  754.05941807  566.95284265]\n"
     ]
    }
   ],
   "source": [
    "trip_metrics_dash_2 = []\n",
    "trip_metrics_dash_test_2 = []\n",
    "\n",
    "for i in range(len(trip_metrics_dash)):\n",
    "    l = []\n",
    "    l = trip_metrics_dash[i][:]\n",
    "    trip_metrics_dash_2 += [l]\n",
    "\n",
    "for i in range(len(trip_metrics_dash_test)):\n",
    "    l = []\n",
    "    l = trip_metrics_dash_test[i][:]\n",
    "    trip_metrics_dash_test_2 += [l]\n",
    "\n",
    "xi = np.array(trip_metrics_dash_2)\n",
    "yi = np.array(trip_time_yi)\n",
    "print(yi.size, xi.size)\n",
    "linear_time_reg = linear_model.LinearRegression()\n",
    "linear_time_reg.fit(xi, yi)\n",
    "\n",
    "xi_test = np.array(trip_metrics_dash_test_2)\n",
    "predicted_test_2 = linear_time_reg.predict(xi_test)\n",
    "\n",
    "print(predicted_test_2)\n",
    "\n",
    "np.savetxt(\"submission.csv\", predicted_test_2, delimiter=\",\")"
   ]
  },
  {
   "cell_type": "code",
   "execution_count": null,
   "metadata": {},
   "outputs": [],
   "source": []
  }
 ],
 "metadata": {
  "kernelspec": {
   "display_name": "Python 2",
   "language": "python",
   "name": "python2"
  },
  "language_info": {
   "codemirror_mode": {
    "name": "ipython",
    "version": 2
   },
   "file_extension": ".py",
   "mimetype": "text/x-python",
   "name": "python",
   "nbconvert_exporter": "python",
   "pygments_lexer": "ipython2",
   "version": "2.7.6"
  }
 },
 "nbformat": 4,
 "nbformat_minor": 0
}
